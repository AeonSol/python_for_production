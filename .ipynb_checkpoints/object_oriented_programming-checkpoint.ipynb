{
 "cells": [
  {
   "cell_type": "markdown",
   "id": "45efaa08-3262-476f-accd-604e2034ddca",
   "metadata": {},
   "source": [
    "# Classes\n",
    "\n",
    "- class like blueprint for object\n",
    "- class keyword\n",
    "- Constructor method called by default when creating object from class"
   ]
  },
  {
   "cell_type": "code",
   "execution_count": 30,
   "id": "40751572-7988-4d21-9048-e8afcae35b41",
   "metadata": {},
   "outputs": [],
   "source": [
    "class Dog:\n",
    "    \n",
    "    # class attributes\n",
    "    number_dogs_in_household = 0\n",
    "    \n",
    "    def __init__(self, name: str):\n",
    "        self.name = name # pass name parameter as instance attribute\n",
    "        Dog.number_dogs_in_household += 1 # update class attribute\n",
    "        \n",
    "    # instance method\n",
    "    def bark_name(self):\n",
    "        print(f\"Wuff, my name is {self.name}!\")"
   ]
  },
  {
   "cell_type": "code",
   "execution_count": 31,
   "id": "3a0abee3-1312-438d-bc80-52f52af4b2b3",
   "metadata": {},
   "outputs": [
    {
     "data": {
      "text/plain": [
       "0"
      ]
     },
     "execution_count": 31,
     "metadata": {},
     "output_type": "execute_result"
    }
   ],
   "source": [
    "Dog.number_dogs_in_household"
   ]
  },
  {
   "cell_type": "code",
   "execution_count": 32,
   "id": "8d5d65b9-6cde-468c-abdf-c5c4f23914a6",
   "metadata": {},
   "outputs": [
    {
     "data": {
      "text/plain": [
       "1"
      ]
     },
     "execution_count": 32,
     "metadata": {},
     "output_type": "execute_result"
    }
   ],
   "source": [
    "teddy = Dog(\"Teddy\")\n",
    "\n",
    "Dog.number_dogs_in_household"
   ]
  },
  {
   "cell_type": "code",
   "execution_count": 33,
   "id": "e753e826-c9cc-4560-9305-145b4b6bd04a",
   "metadata": {},
   "outputs": [
    {
     "name": "stdout",
     "output_type": "stream",
     "text": [
      "Wuff, my name is Teddy!\n"
     ]
    }
   ],
   "source": [
    "teddy.bark_name()"
   ]
  },
  {
   "cell_type": "code",
   "execution_count": 34,
   "id": "d37249d1-5bfb-4730-b8b2-177e3c381a5d",
   "metadata": {},
   "outputs": [
    {
     "data": {
      "text/plain": [
       "2"
      ]
     },
     "execution_count": 34,
     "metadata": {},
     "output_type": "execute_result"
    }
   ],
   "source": [
    "rex = Dog(\"Rex\")\n",
    "\n",
    "Dog.number_dogs_in_household"
   ]
  },
  {
   "cell_type": "code",
   "execution_count": 35,
   "id": "a3838c1b-d8eb-4a6b-88e1-561cf4f771ae",
   "metadata": {},
   "outputs": [
    {
     "name": "stdout",
     "output_type": "stream",
     "text": [
      "Wuff, my name is Rex!\n"
     ]
    }
   ],
   "source": [
    "rex.bark_name()"
   ]
  },
  {
   "cell_type": "markdown",
   "id": "a31a6622-4bdd-4733-9ee5-0ef590bcd2e1",
   "metadata": {},
   "source": [
    "# Objects"
   ]
  },
  {
   "cell_type": "markdown",
   "id": "98d95323-ace9-422d-8b81-04a3e31346d7",
   "metadata": {},
   "source": [
    "- relationship between object and class is like teddy and dog\n",
    "- need to create object of class before we can use instance methods and attributes"
   ]
  },
  {
   "cell_type": "code",
   "execution_count": 19,
   "id": "2396b166-ba86-4c66-95f4-a5a5bbe4449c",
   "metadata": {},
   "outputs": [],
   "source": [
    "class Dog:\n",
    "    \n",
    "    # class attributes\n",
    "    number_dogs_in_household = 0\n",
    "    \n",
    "    ### NEW ###\n",
    "    # class method\n",
    "    def print_lexicon_entry():\n",
    "        print(\"The domestic dog (Canis familiaris or Canis lupus familiaris) is a domesticated descendant of the wolf.\")\n",
    "    \n",
    "    def __init__(self, name: str):\n",
    "        self.name = name # pass name parameter as instance attribute\n",
    "        Dog.number_dogs_in_household += 1 # update class attribute\n",
    "        \n",
    "    # instance method\n",
    "    def bark_name(self):\n",
    "        print(f\"Wuff, my name is {self.name}!\")"
   ]
  },
  {
   "cell_type": "code",
   "execution_count": 20,
   "id": "3bcb540a-6ee7-4eb4-a7c6-3a13b96cac77",
   "metadata": {},
   "outputs": [
    {
     "name": "stdout",
     "output_type": "stream",
     "text": [
      "The domestic dog (Canis familiaris or Canis lupus familiaris) is a domesticated descendant of the wolf.\n"
     ]
    }
   ],
   "source": [
    "Dog.print_lexicon_entry()"
   ]
  },
  {
   "cell_type": "code",
   "execution_count": 21,
   "id": "5c982b9a-fd62-454a-94e8-e6900f9846ce",
   "metadata": {},
   "outputs": [
    {
     "ename": "TypeError",
     "evalue": "bark_name() missing 1 required positional argument: 'self'",
     "output_type": "error",
     "traceback": [
      "\u001b[1;31m---------------------------------------------------------------------------\u001b[0m",
      "\u001b[1;31mTypeError\u001b[0m                                 Traceback (most recent call last)",
      "\u001b[1;32m<ipython-input-21-f3ae35706342>\u001b[0m in \u001b[0;36m<module>\u001b[1;34m\u001b[0m\n\u001b[1;32m----> 1\u001b[1;33m \u001b[0mDog\u001b[0m\u001b[1;33m.\u001b[0m\u001b[0mbark_name\u001b[0m\u001b[1;33m(\u001b[0m\u001b[1;33m)\u001b[0m\u001b[1;33m\u001b[0m\u001b[1;33m\u001b[0m\u001b[0m\n\u001b[0m",
      "\u001b[1;31mTypeError\u001b[0m: bark_name() missing 1 required positional argument: 'self'"
     ]
    }
   ],
   "source": [
    "Dog.bark_name()"
   ]
  },
  {
   "cell_type": "code",
   "execution_count": 24,
   "id": "4d6f93f4-62ed-44e3-af69-e902aa1d2bb3",
   "metadata": {},
   "outputs": [
    {
     "name": "stdout",
     "output_type": "stream",
     "text": [
      "Wuff, my name is Lily!\n"
     ]
    }
   ],
   "source": [
    "Dog(\"Lily\").bark_name()"
   ]
  },
  {
   "cell_type": "code",
   "execution_count": 25,
   "id": "6d58c53f-5800-41ea-a2d9-5f95d5c5c523",
   "metadata": {},
   "outputs": [
    {
     "data": {
      "text/plain": [
       "__main__.Dog"
      ]
     },
     "execution_count": 25,
     "metadata": {},
     "output_type": "execute_result"
    }
   ],
   "source": [
    "type(Dog(\"Lily\"))"
   ]
  },
  {
   "cell_type": "code",
   "execution_count": 26,
   "id": "c7d9dddf-e829-4f47-9ee6-b0db3f438730",
   "metadata": {},
   "outputs": [
    {
     "data": {
      "text/plain": [
       "2"
      ]
     },
     "execution_count": 26,
     "metadata": {},
     "output_type": "execute_result"
    }
   ],
   "source": [
    "Dog.number_dogs_in_household"
   ]
  },
  {
   "cell_type": "code",
   "execution_count": 40,
   "id": "735205b1-90a1-48c1-acc1-bb1249e77b90",
   "metadata": {},
   "outputs": [],
   "source": [
    "### EXERCISE ###\n",
    "\n",
    "class Dog:\n",
    "    \n",
    "    # class attributes\n",
    "    dogs_in_household = []\n",
    "    number_dogs_in_household = 0\n",
    "    \n",
    "    # class method\n",
    "    def print_lexicon_entry():\n",
    "        print(\"The domestic dog (Canis familiaris or Canis lupus familiaris) is a domesticated descendant of the wolf.\")\n",
    "    \n",
    "    def __init__(self, name: str):\n",
    "        self.name = name\n",
    "        Dog.dogs_in_household.append(self.name) # write instance attribute into class attribute list\n",
    "        Dog.number_dogs_in_household = len(Dog.dogs_in_household) # update class attribute\n",
    "        \n",
    "    # instance method\n",
    "    def bark_name(self):\n",
    "        print(f\"Wuff, my name is {self.name}!\")"
   ]
  },
  {
   "cell_type": "code",
   "execution_count": 41,
   "id": "18ece4cf-6a8e-4a96-8140-84e3215cb21c",
   "metadata": {},
   "outputs": [
    {
     "data": {
      "text/plain": [
       "0"
      ]
     },
     "execution_count": 41,
     "metadata": {},
     "output_type": "execute_result"
    }
   ],
   "source": [
    "Dog.number_dogs_in_household"
   ]
  },
  {
   "cell_type": "code",
   "execution_count": 42,
   "id": "22688b5d-5001-46ed-831a-6a4aaf847dce",
   "metadata": {},
   "outputs": [
    {
     "data": {
      "text/plain": [
       "3"
      ]
     },
     "execution_count": 42,
     "metadata": {},
     "output_type": "execute_result"
    }
   ],
   "source": [
    "teddy = Dog(\"Teddy\")\n",
    "rex = Dog(\"Rex\")\n",
    "lily = Dog(\"Lily\")\n",
    "\n",
    "Dog.number_dogs_in_household"
   ]
  },
  {
   "cell_type": "code",
   "execution_count": 43,
   "id": "bb4d99eb-8b38-4b3f-b485-bca2a4072386",
   "metadata": {},
   "outputs": [
    {
     "data": {
      "text/plain": [
       "['Teddy', 'Rex', 'Lily']"
      ]
     },
     "execution_count": 43,
     "metadata": {},
     "output_type": "execute_result"
    }
   ],
   "source": [
    "Dog.dogs_in_household"
   ]
  },
  {
   "cell_type": "markdown",
   "id": "b46624f2-8849-4340-b952-2ecdc2c2fd76",
   "metadata": {},
   "source": [
    "# Attributes"
   ]
  },
  {
   "cell_type": "markdown",
   "id": "ad13331b-ed6e-4b8b-9d70-824ab854de31",
   "metadata": {},
   "source": [
    "# Methods"
   ]
  },
  {
   "cell_type": "markdown",
   "id": "6733e1ff-87d2-4857-b25f-ec8f527592fa",
   "metadata": {},
   "source": [
    "# Dunder Methods"
   ]
  },
  {
   "cell_type": "markdown",
   "id": "2036cbe7-90c6-46da-a9bb-5c764df8963d",
   "metadata": {},
   "source": [
    "# Global and local Variables"
   ]
  },
  {
   "cell_type": "markdown",
   "id": "b8d7332d-5d9b-461a-b6b1-4650425df563",
   "metadata": {},
   "source": [
    "# Encapsulation"
   ]
  },
  {
   "cell_type": "markdown",
   "id": "028773b3-29dd-4f2f-b504-6b4912af9359",
   "metadata": {},
   "source": [
    "# Inheritance"
   ]
  },
  {
   "cell_type": "markdown",
   "id": "e3721a2d-9a90-48b9-a498-ad1137ce2db2",
   "metadata": {},
   "source": [
    "## Simple Inheritance"
   ]
  },
  {
   "cell_type": "markdown",
   "id": "3b9e25ae-2f98-462f-9046-6651e63e73c7",
   "metadata": {},
   "source": [
    "## Multiple Inheritance (MRO)"
   ]
  },
  {
   "cell_type": "markdown",
   "id": "ea38b604-edc6-4f34-808d-a7d7fa11e106",
   "metadata": {},
   "source": [
    "# Polymorphism"
   ]
  },
  {
   "cell_type": "markdown",
   "id": "0db64a45-dcdc-4e59-a917-3bdbe4a6677f",
   "metadata": {},
   "source": [
    "## Method overriding"
   ]
  },
  {
   "cell_type": "markdown",
   "id": "f1b38745-527f-46ad-aff0-c538b5c55103",
   "metadata": {},
   "source": [
    "## Method overloading"
   ]
  },
  {
   "cell_type": "markdown",
   "id": "5c3b829f-6e3f-4619-a3f5-227271e06367",
   "metadata": {},
   "source": [
    "# Using Decorators"
   ]
  },
  {
   "cell_type": "markdown",
   "id": "0cc2b754-4667-4141-aed0-495ec4a3ca96",
   "metadata": {},
   "source": [
    "## For Class Methods"
   ]
  },
  {
   "cell_type": "markdown",
   "id": "4d3ff61b-b2d8-4b82-97c3-2d10f80968a3",
   "metadata": {},
   "source": [
    "## For Static Methods"
   ]
  },
  {
   "cell_type": "markdown",
   "id": "29aae09a-1704-4838-8e1a-7a83facfbf95",
   "metadata": {},
   "source": [
    "## For Properties"
   ]
  },
  {
   "cell_type": "markdown",
   "id": "3a21192b-ed8d-44ec-b279-6affce75bd40",
   "metadata": {},
   "source": [
    "# Metaclasses"
   ]
  },
  {
   "cell_type": "markdown",
   "id": "72ce8137-7116-402e-8661-3ea38aad059e",
   "metadata": {},
   "source": [
    "# Abstract Base Class"
   ]
  },
  {
   "cell_type": "code",
   "execution_count": null,
   "id": "4a30ec7b-03d6-4c23-9af1-66d2a76a3386",
   "metadata": {},
   "outputs": [],
   "source": []
  }
 ],
 "metadata": {
  "kernelspec": {
   "display_name": "Python 3",
   "language": "python",
   "name": "python3"
  },
  "language_info": {
   "codemirror_mode": {
    "name": "ipython",
    "version": 3
   },
   "file_extension": ".py",
   "mimetype": "text/x-python",
   "name": "python",
   "nbconvert_exporter": "python",
   "pygments_lexer": "ipython3",
   "version": "3.9.1"
  }
 },
 "nbformat": 4,
 "nbformat_minor": 5
}
