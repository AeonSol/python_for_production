{
 "cells": [
  {
   "cell_type": "markdown",
   "id": "45efaa08-3262-476f-accd-604e2034ddca",
   "metadata": {},
   "source": [
    "# Classes\n",
    "\n",
    "- class like blueprint for object\n",
    "- class keyword\n",
    "- Constructor method called by default when creating object from class"
   ]
  },
  {
   "cell_type": "code",
   "execution_count": 35,
   "id": "40751572-7988-4d21-9048-e8afcae35b41",
   "metadata": {},
   "outputs": [],
   "source": [
    "class Dog:\n",
    "    \n",
    "    # class attributes\n",
    "    number_dogs_in_household = 0\n",
    "    \n",
    "    def __init__(self, name):\n",
    "        self.name = name # pass name parameter as instance attribute\n",
    "        Dog.number_dogs_in_household += 1 # update class attribute\n",
    "        \n",
    "    # instance method\n",
    "    def bark_name(self):\n",
    "        print(f\"Wuff, my name is {self.name}!\")"
   ]
  },
  {
   "cell_type": "code",
   "execution_count": 36,
   "id": "3a0abee3-1312-438d-bc80-52f52af4b2b3",
   "metadata": {},
   "outputs": [
    {
     "data": {
      "text/plain": [
       "0"
      ]
     },
     "execution_count": 36,
     "metadata": {},
     "output_type": "execute_result"
    }
   ],
   "source": [
    "Dog.number_dogs_in_household"
   ]
  },
  {
   "cell_type": "code",
   "execution_count": 37,
   "id": "8d5d65b9-6cde-468c-abdf-c5c4f23914a6",
   "metadata": {},
   "outputs": [
    {
     "data": {
      "text/plain": [
       "1"
      ]
     },
     "execution_count": 37,
     "metadata": {},
     "output_type": "execute_result"
    }
   ],
   "source": [
    "teddy = Dog(\"Teddy\")\n",
    "\n",
    "Dog.number_dogs_in_household"
   ]
  },
  {
   "cell_type": "code",
   "execution_count": 38,
   "id": "e753e826-c9cc-4560-9305-145b4b6bd04a",
   "metadata": {},
   "outputs": [
    {
     "name": "stdout",
     "output_type": "stream",
     "text": [
      "Wuff, my name is Teddy!\n"
     ]
    }
   ],
   "source": [
    "teddy.bark_name()"
   ]
  },
  {
   "cell_type": "code",
   "execution_count": 39,
   "id": "d37249d1-5bfb-4730-b8b2-177e3c381a5d",
   "metadata": {},
   "outputs": [
    {
     "data": {
      "text/plain": [
       "2"
      ]
     },
     "execution_count": 39,
     "metadata": {},
     "output_type": "execute_result"
    }
   ],
   "source": [
    "rex = Dog(\"Rex\")\n",
    "\n",
    "Dog.number_dogs_in_household"
   ]
  },
  {
   "cell_type": "code",
   "execution_count": 40,
   "id": "a3838c1b-d8eb-4a6b-88e1-561cf4f771ae",
   "metadata": {},
   "outputs": [
    {
     "name": "stdout",
     "output_type": "stream",
     "text": [
      "Wuff, my name is Rex!\n"
     ]
    }
   ],
   "source": [
    "rex.bark_name()"
   ]
  },
  {
   "cell_type": "markdown",
   "id": "a31a6622-4bdd-4733-9ee5-0ef590bcd2e1",
   "metadata": {},
   "source": [
    "# Objects"
   ]
  },
  {
   "cell_type": "markdown",
   "id": "98d95323-ace9-422d-8b81-04a3e31346d7",
   "metadata": {},
   "source": [
    "- relationship between object and class is like teddy and dog\n",
    "- need to create object of class before we can use instance methods and attributes"
   ]
  },
  {
   "cell_type": "code",
   "execution_count": 41,
   "id": "2396b166-ba86-4c66-95f4-a5a5bbe4449c",
   "metadata": {},
   "outputs": [],
   "source": [
    "class Dog:\n",
    "    \n",
    "    # class attributes\n",
    "    number_dogs_in_household = 0\n",
    "    \n",
    "    ### NEW ###\n",
    "    # class method\n",
    "    def print_lexicon_entry():\n",
    "        print(\"The domestic dog (Canis familiaris or Canis lupus familiaris) is a domesticated descendant of the wolf.\")\n",
    "    \n",
    "    def __init__(self, name):\n",
    "        self.name = name # pass name parameter as instance attribute\n",
    "        Dog.number_dogs_in_household += 1 # update class attribute\n",
    "        \n",
    "    # instance method\n",
    "    def bark_name(self):\n",
    "        print(f\"Wuff, my name is {self.name}!\")"
   ]
  },
  {
   "cell_type": "code",
   "execution_count": 42,
   "id": "3bcb540a-6ee7-4eb4-a7c6-3a13b96cac77",
   "metadata": {},
   "outputs": [
    {
     "name": "stdout",
     "output_type": "stream",
     "text": [
      "The domestic dog (Canis familiaris or Canis lupus familiaris) is a domesticated descendant of the wolf.\n"
     ]
    }
   ],
   "source": [
    "Dog.print_lexicon_entry()"
   ]
  },
  {
   "cell_type": "code",
   "execution_count": 43,
   "id": "5c982b9a-fd62-454a-94e8-e6900f9846ce",
   "metadata": {},
   "outputs": [
    {
     "ename": "TypeError",
     "evalue": "bark_name() missing 1 required positional argument: 'self'",
     "output_type": "error",
     "traceback": [
      "\u001b[1;31m---------------------------------------------------------------------------\u001b[0m",
      "\u001b[1;31mTypeError\u001b[0m                                 Traceback (most recent call last)",
      "\u001b[1;32m<ipython-input-43-f3ae35706342>\u001b[0m in \u001b[0;36m<module>\u001b[1;34m\u001b[0m\n\u001b[1;32m----> 1\u001b[1;33m \u001b[0mDog\u001b[0m\u001b[1;33m.\u001b[0m\u001b[0mbark_name\u001b[0m\u001b[1;33m(\u001b[0m\u001b[1;33m)\u001b[0m\u001b[1;33m\u001b[0m\u001b[1;33m\u001b[0m\u001b[0m\n\u001b[0m",
      "\u001b[1;31mTypeError\u001b[0m: bark_name() missing 1 required positional argument: 'self'"
     ]
    }
   ],
   "source": [
    "Dog.bark_name()"
   ]
  },
  {
   "cell_type": "code",
   "execution_count": 44,
   "id": "4d6f93f4-62ed-44e3-af69-e902aa1d2bb3",
   "metadata": {},
   "outputs": [
    {
     "name": "stdout",
     "output_type": "stream",
     "text": [
      "Wuff, my name is Lily!\n"
     ]
    }
   ],
   "source": [
    "Dog(\"Lily\").bark_name()"
   ]
  },
  {
   "cell_type": "code",
   "execution_count": 45,
   "id": "6d58c53f-5800-41ea-a2d9-5f95d5c5c523",
   "metadata": {},
   "outputs": [
    {
     "data": {
      "text/plain": [
       "__main__.Dog"
      ]
     },
     "execution_count": 45,
     "metadata": {},
     "output_type": "execute_result"
    }
   ],
   "source": [
    "type(Dog(\"Lily\"))"
   ]
  },
  {
   "cell_type": "code",
   "execution_count": 46,
   "id": "c7d9dddf-e829-4f47-9ee6-b0db3f438730",
   "metadata": {},
   "outputs": [
    {
     "data": {
      "text/plain": [
       "2"
      ]
     },
     "execution_count": 46,
     "metadata": {},
     "output_type": "execute_result"
    }
   ],
   "source": [
    "Dog.number_dogs_in_household"
   ]
  },
  {
   "cell_type": "code",
   "execution_count": 47,
   "id": "735205b1-90a1-48c1-acc1-bb1249e77b90",
   "metadata": {},
   "outputs": [],
   "source": [
    "### EXERCISE ###\n",
    "\n",
    "class Dog:\n",
    "    \n",
    "    # class attributes\n",
    "    dogs_in_household = []\n",
    "    number_dogs_in_household = 0\n",
    "    \n",
    "    # class method\n",
    "    def print_lexicon_entry():\n",
    "        print(\"The domestic dog (Canis familiaris or Canis lupus familiaris) is a domesticated descendant of the wolf.\")\n",
    "    \n",
    "    def __init__(self, name):\n",
    "        self.name = name\n",
    "        Dog.dogs_in_household.append(self.name) # write instance attribute into class attribute list\n",
    "        Dog.number_dogs_in_household = len(Dog.dogs_in_household) # update class attribute\n",
    "        \n",
    "    # instance method\n",
    "    def bark_name(self):\n",
    "        print(f\"Wuff, my name is {self.name}!\")"
   ]
  },
  {
   "cell_type": "code",
   "execution_count": 48,
   "id": "18ece4cf-6a8e-4a96-8140-84e3215cb21c",
   "metadata": {},
   "outputs": [
    {
     "data": {
      "text/plain": [
       "0"
      ]
     },
     "execution_count": 48,
     "metadata": {},
     "output_type": "execute_result"
    }
   ],
   "source": [
    "Dog.number_dogs_in_household"
   ]
  },
  {
   "cell_type": "code",
   "execution_count": 49,
   "id": "22688b5d-5001-46ed-831a-6a4aaf847dce",
   "metadata": {},
   "outputs": [
    {
     "data": {
      "text/plain": [
       "3"
      ]
     },
     "execution_count": 49,
     "metadata": {},
     "output_type": "execute_result"
    }
   ],
   "source": [
    "teddy = Dog(\"Teddy\")\n",
    "rex = Dog(\"Rex\")\n",
    "lily = Dog(\"Lily\")\n",
    "\n",
    "Dog.number_dogs_in_household"
   ]
  },
  {
   "cell_type": "code",
   "execution_count": 50,
   "id": "bb4d99eb-8b38-4b3f-b485-bca2a4072386",
   "metadata": {},
   "outputs": [
    {
     "data": {
      "text/plain": [
       "['Teddy', 'Rex', 'Lily']"
      ]
     },
     "execution_count": 50,
     "metadata": {},
     "output_type": "execute_result"
    }
   ],
   "source": [
    "Dog.dogs_in_household"
   ]
  },
  {
   "cell_type": "markdown",
   "id": "b46624f2-8849-4340-b952-2ecdc2c2fd76",
   "metadata": {},
   "source": [
    "# Attributes"
   ]
  },
  {
   "cell_type": "code",
   "execution_count": 51,
   "id": "3149d150-8d44-41c4-afe2-942aea1734e8",
   "metadata": {},
   "outputs": [
    {
     "data": {
      "text/plain": [
       "['__class__',\n",
       " '__delattr__',\n",
       " '__dict__',\n",
       " '__dir__',\n",
       " '__doc__',\n",
       " '__eq__',\n",
       " '__format__',\n",
       " '__ge__',\n",
       " '__getattribute__',\n",
       " '__gt__',\n",
       " '__hash__',\n",
       " '__init__',\n",
       " '__init_subclass__',\n",
       " '__le__',\n",
       " '__lt__',\n",
       " '__module__',\n",
       " '__ne__',\n",
       " '__new__',\n",
       " '__reduce__',\n",
       " '__reduce_ex__',\n",
       " '__repr__',\n",
       " '__setattr__',\n",
       " '__sizeof__',\n",
       " '__str__',\n",
       " '__subclasshook__',\n",
       " '__weakref__',\n",
       " 'bark_name',\n",
       " 'dogs_in_household',\n",
       " 'name',\n",
       " 'number_dogs_in_household',\n",
       " 'print_lexicon_entry']"
      ]
     },
     "execution_count": 51,
     "metadata": {},
     "output_type": "execute_result"
    }
   ],
   "source": [
    "dir(teddy) # returns all attributes and methods of an object"
   ]
  },
  {
   "cell_type": "code",
   "execution_count": 52,
   "id": "87220d8d-259c-4cfd-84c8-ac9ffabc9b9e",
   "metadata": {},
   "outputs": [
    {
     "data": {
      "text/plain": [
       "__main__.Dog"
      ]
     },
     "execution_count": 52,
     "metadata": {},
     "output_type": "execute_result"
    }
   ],
   "source": [
    "teddy.__class__"
   ]
  },
  {
   "cell_type": "code",
   "execution_count": 62,
   "id": "df7c7a64-74b1-4d2a-969c-951c26d59ab0",
   "metadata": {},
   "outputs": [
    {
     "data": {
      "text/plain": [
       "__main__.Dog"
      ]
     },
     "execution_count": 62,
     "metadata": {},
     "output_type": "execute_result"
    }
   ],
   "source": [
    "type(teddy)"
   ]
  },
  {
   "cell_type": "code",
   "execution_count": 53,
   "id": "e5d52104-beb5-4b1f-8328-98ccb4f84280",
   "metadata": {},
   "outputs": [
    {
     "data": {
      "text/plain": [
       "{'name': 'Teddy'}"
      ]
     },
     "execution_count": 53,
     "metadata": {},
     "output_type": "execute_result"
    }
   ],
   "source": [
    "teddy.__dict__"
   ]
  },
  {
   "cell_type": "code",
   "execution_count": 61,
   "id": "7bc42d3f-6e2a-479f-aa8d-54250bb65315",
   "metadata": {},
   "outputs": [
    {
     "data": {
      "text/plain": [
       "'Teddy'"
      ]
     },
     "execution_count": 61,
     "metadata": {},
     "output_type": "execute_result"
    }
   ],
   "source": [
    "teddy.__getattribute__('name')"
   ]
  },
  {
   "cell_type": "code",
   "execution_count": 54,
   "id": "1f68120c-caf1-4aa5-a9cb-b484e32a4ed5",
   "metadata": {},
   "outputs": [],
   "source": [
    "class Dog:\n",
    "    \n",
    "    # class attributes\n",
    "    dogs_in_household = []\n",
    "    number_dogs_in_household = 0\n",
    "    \n",
    "    def __init__(self, name):\n",
    "        self.name = name\n",
    "        Dog.dogs_in_household.append(self.name) # write instance attribute into class attribute list\n",
    "        Dog.number_dogs_in_household = len(Dog.dogs_in_household) # update class attribute\n",
    "        \n",
    "    @staticmethod\n",
    "    def print_lexicon_entry():\n",
    "        entry = \"The domestic dog (Canis familiaris or Canis lupus familiaris) is a domesticated descendant of the wolf.\"\n",
    "        print(entry)\n",
    "\n",
    "    def bark_name(self):\n",
    "        print(f\"Wuff, my name is {self.name}!\")"
   ]
  },
  {
   "cell_type": "code",
   "execution_count": 55,
   "id": "f42a3fad-927e-4ca5-889e-88b25513273c",
   "metadata": {},
   "outputs": [
    {
     "name": "stdout",
     "output_type": "stream",
     "text": [
      "The domestic dog (Canis familiaris or Canis lupus familiaris) is a domesticated descendant of the wolf.\n"
     ]
    }
   ],
   "source": [
    "Dog.print_lexicon_entry()"
   ]
  },
  {
   "cell_type": "code",
   "execution_count": 56,
   "id": "99a81288-21d8-47de-873f-6adcb178c266",
   "metadata": {},
   "outputs": [],
   "source": [
    "susi = Dog(\"Susi\")"
   ]
  },
  {
   "cell_type": "code",
   "execution_count": 57,
   "id": "22359f72-a535-4413-9cec-ea13097ca5d2",
   "metadata": {},
   "outputs": [
    {
     "ename": "AttributeError",
     "evalue": "'Dog' object has no attribute 'entry'",
     "output_type": "error",
     "traceback": [
      "\u001b[1;31m---------------------------------------------------------------------------\u001b[0m",
      "\u001b[1;31mAttributeError\u001b[0m                            Traceback (most recent call last)",
      "\u001b[1;32m<ipython-input-57-0fa134a8419f>\u001b[0m in \u001b[0;36m<module>\u001b[1;34m\u001b[0m\n\u001b[1;32m----> 1\u001b[1;33m \u001b[0msusi\u001b[0m\u001b[1;33m.\u001b[0m\u001b[0mentry\u001b[0m\u001b[1;33m\u001b[0m\u001b[1;33m\u001b[0m\u001b[0m\n\u001b[0m",
      "\u001b[1;31mAttributeError\u001b[0m: 'Dog' object has no attribute 'entry'"
     ]
    }
   ],
   "source": [
    "susi.entry"
   ]
  },
  {
   "cell_type": "code",
   "execution_count": 58,
   "id": "63c3e573-ce52-4d6d-995c-53071936467b",
   "metadata": {},
   "outputs": [
    {
     "data": {
      "text/plain": [
       "1"
      ]
     },
     "execution_count": 58,
     "metadata": {},
     "output_type": "execute_result"
    }
   ],
   "source": [
    "susi.number_dogs_in_household"
   ]
  },
  {
   "cell_type": "code",
   "execution_count": 246,
   "id": "57f25a95-1300-4900-95c6-80fedb013115",
   "metadata": {},
   "outputs": [],
   "source": [
    "### EXERCISE ###\n",
    "\n",
    "class Dog:\n",
    "    \n",
    "    def __init__(self, name):\n",
    "        self.name = name\n",
    "        \n",
    "    def bark_name(self):\n",
    "        print(f\"Wuff, my name is {self.name}!\")\n",
    "        \n",
    "        \n",
    "class Household:\n",
    "    \n",
    "    def __init__(self, owner_name):\n",
    "        self.name = f\"{owner_name}'s household\"\n",
    "        self.owners = [owner_name]\n",
    "        self.dogs_in_household = []\n",
    "        self.number_dogs_in_household = 0\n",
    "        \n",
    "    def adopt_dog(self, dog):\n",
    "        self.dogs_in_household.append(dog)\n",
    "        self.number_dogs_in_household = len(self.dogs_in_household)\n",
    "        \n",
    "\n",
    "class Owner:\n",
    "    \n",
    "    def __init__(self, name):\n",
    "        self.name = name\n",
    "        self.household = Household(self.name)\n",
    "        \n",
    "    def move_together(self, second_owner):\n",
    "        dogs_in_first_household = self.household.dogs_in_household\n",
    "        dogs_in_second_household = second_owner.household.dogs_in_household\n",
    "        all_dogs = dogs_in_first_household + dogs_in_second_household\n",
    "        self.household = Household(f\"{self.name} and {second_owner.name}\")\n",
    "        self.household.owners = [self.name, second_owner.name]\n",
    "        for dog in all_dogs:\n",
    "            self.household.adopt_dog(dog)\n",
    "        second_owner.household = self.household"
   ]
  },
  {
   "cell_type": "code",
   "execution_count": 247,
   "id": "ca6dc4bb-5dfd-4089-9870-aeed6f106881",
   "metadata": {},
   "outputs": [
    {
     "name": "stdout",
     "output_type": "stream",
     "text": [
      "Adam's household\n",
      "Eve's household\n"
     ]
    }
   ],
   "source": [
    "adam = Owner(\"Adam\")\n",
    "eve = Owner(\"Eve\")\n",
    "\n",
    "print(adam.household.name)\n",
    "print(eve.household.name)"
   ]
  },
  {
   "cell_type": "code",
   "execution_count": 248,
   "id": "1f5379db-6c46-4448-a5ca-7fed437ea60c",
   "metadata": {},
   "outputs": [
    {
     "data": {
      "text/plain": [
       "[]"
      ]
     },
     "execution_count": 248,
     "metadata": {},
     "output_type": "execute_result"
    }
   ],
   "source": [
    "adam.household.dogs_in_household"
   ]
  },
  {
   "cell_type": "code",
   "execution_count": 249,
   "id": "efac652b-6d41-4dbd-8ebb-5d1222a8599b",
   "metadata": {},
   "outputs": [],
   "source": [
    "adam.household.adopt_dog(teddy)\n",
    "adam.household.adopt_dog(rex)"
   ]
  },
  {
   "cell_type": "code",
   "execution_count": 250,
   "id": "8bf8d6a8-0a10-4dbd-962a-58021233ca98",
   "metadata": {},
   "outputs": [
    {
     "data": {
      "text/plain": [
       "[<__main__.Dog at 0x1e9a0c00390>, <__main__.Dog at 0x1e9a0c004a8>]"
      ]
     },
     "execution_count": 250,
     "metadata": {},
     "output_type": "execute_result"
    }
   ],
   "source": [
    "adam.household.dogs_in_household"
   ]
  },
  {
   "cell_type": "code",
   "execution_count": 251,
   "id": "6920aa6b-af91-47ea-8288-af7fcd15bf96",
   "metadata": {},
   "outputs": [
    {
     "name": "stdout",
     "output_type": "stream",
     "text": [
      "Teddy\n",
      "Rex\n"
     ]
    }
   ],
   "source": [
    "for dog in adam.household.dogs_in_household:\n",
    "    print(dog.name)"
   ]
  },
  {
   "cell_type": "code",
   "execution_count": 252,
   "id": "d6d6c939-f3d2-4f16-821a-6033135efed1",
   "metadata": {},
   "outputs": [
    {
     "data": {
      "text/plain": [
       "2"
      ]
     },
     "execution_count": 252,
     "metadata": {},
     "output_type": "execute_result"
    }
   ],
   "source": [
    "adam.household.number_dogs_in_household"
   ]
  },
  {
   "cell_type": "code",
   "execution_count": 253,
   "id": "89bde629-04ca-476e-8d4a-1658c0ad0e6a",
   "metadata": {},
   "outputs": [],
   "source": [
    "eve.household.adopt_dog(lily)\n",
    "eve.household.adopt_dog(susi)"
   ]
  },
  {
   "cell_type": "code",
   "execution_count": 254,
   "id": "3cce1168-634d-4182-b7ed-a57ae57f7473",
   "metadata": {},
   "outputs": [],
   "source": [
    "adam.move_together(eve)"
   ]
  },
  {
   "cell_type": "code",
   "execution_count": 255,
   "id": "913ee3df-0a98-4c26-83cc-8fc96638a259",
   "metadata": {},
   "outputs": [
    {
     "data": {
      "text/plain": [
       "\"Adam and Eve's household\""
      ]
     },
     "execution_count": 255,
     "metadata": {},
     "output_type": "execute_result"
    }
   ],
   "source": [
    "adam.household.name"
   ]
  },
  {
   "cell_type": "code",
   "execution_count": 256,
   "id": "810e84c0-5ea2-4cae-99b2-7d3fcabf4108",
   "metadata": {},
   "outputs": [
    {
     "name": "stdout",
     "output_type": "stream",
     "text": [
      "Teddy\n",
      "Rex\n",
      "Lily\n",
      "Susi\n"
     ]
    }
   ],
   "source": [
    "for dog in adam.household.dogs_in_household:\n",
    "    print(dog.name)"
   ]
  },
  {
   "cell_type": "code",
   "execution_count": 257,
   "id": "b1b63845-df1a-478d-99bf-c4667cad306c",
   "metadata": {},
   "outputs": [
    {
     "data": {
      "text/plain": [
       "4"
      ]
     },
     "execution_count": 257,
     "metadata": {},
     "output_type": "execute_result"
    }
   ],
   "source": [
    "adam.household.number_dogs_in_household"
   ]
  },
  {
   "cell_type": "code",
   "execution_count": 258,
   "id": "9aede250-a36b-4346-af00-87311822fd14",
   "metadata": {},
   "outputs": [
    {
     "data": {
      "text/plain": [
       "\"Adam and Eve's household\""
      ]
     },
     "execution_count": 258,
     "metadata": {},
     "output_type": "execute_result"
    }
   ],
   "source": [
    "eve.household.name"
   ]
  },
  {
   "cell_type": "code",
   "execution_count": 259,
   "id": "ae572197-28f7-4dfc-b995-c279a18bd59f",
   "metadata": {},
   "outputs": [
    {
     "name": "stdout",
     "output_type": "stream",
     "text": [
      "Teddy\n",
      "Rex\n",
      "Lily\n",
      "Susi\n"
     ]
    }
   ],
   "source": [
    "for dog in eve.household.dogs_in_household:\n",
    "    print(dog.name)"
   ]
  },
  {
   "cell_type": "code",
   "execution_count": 260,
   "id": "75ddecb7-24ec-44b9-9fc3-b9d2a9714ba8",
   "metadata": {},
   "outputs": [
    {
     "data": {
      "text/plain": [
       "4"
      ]
     },
     "execution_count": 260,
     "metadata": {},
     "output_type": "execute_result"
    }
   ],
   "source": [
    "eve.household.number_dogs_in_household"
   ]
  },
  {
   "cell_type": "code",
   "execution_count": 261,
   "id": "c8cc4b1b-fd99-4a48-aa95-1b2eb2ff2191",
   "metadata": {},
   "outputs": [
    {
     "data": {
      "text/plain": [
       "True"
      ]
     },
     "execution_count": 261,
     "metadata": {},
     "output_type": "execute_result"
    }
   ],
   "source": [
    "adam.household == eve.household"
   ]
  },
  {
   "cell_type": "code",
   "execution_count": 262,
   "id": "b16b5f29-674d-4e3c-bdc6-fcf73e4c638b",
   "metadata": {},
   "outputs": [],
   "source": [
    "adam.household.adopt_dog(Dog(\"Fiffi\"))"
   ]
  },
  {
   "cell_type": "code",
   "execution_count": 263,
   "id": "8abb1474-5c89-46c7-b4a9-90ba10920c88",
   "metadata": {},
   "outputs": [
    {
     "name": "stdout",
     "output_type": "stream",
     "text": [
      "Teddy\n",
      "Rex\n",
      "Lily\n",
      "Susi\n",
      "Fiffi\n"
     ]
    }
   ],
   "source": [
    "for dog in adam.household.dogs_in_household:\n",
    "    print(dog.name)"
   ]
  },
  {
   "cell_type": "code",
   "execution_count": 264,
   "id": "a2a7034d-c7c6-4bff-87ce-085167bf3425",
   "metadata": {},
   "outputs": [
    {
     "name": "stdout",
     "output_type": "stream",
     "text": [
      "Teddy\n",
      "Rex\n",
      "Lily\n",
      "Susi\n",
      "Fiffi\n"
     ]
    }
   ],
   "source": [
    "for dog in eve.household.dogs_in_household:\n",
    "    print(dog.name)"
   ]
  },
  {
   "cell_type": "code",
   "execution_count": 265,
   "id": "ca08ffdd-2807-4d36-8f6a-a45971a28cf7",
   "metadata": {},
   "outputs": [
    {
     "data": {
      "text/plain": [
       "['Adam', 'Eve']"
      ]
     },
     "execution_count": 265,
     "metadata": {},
     "output_type": "execute_result"
    }
   ],
   "source": [
    "adam.household.owners"
   ]
  },
  {
   "cell_type": "markdown",
   "id": "ad13331b-ed6e-4b8b-9d70-824ab854de31",
   "metadata": {},
   "source": [
    "# Methods"
   ]
  },
  {
   "cell_type": "markdown",
   "id": "6733e1ff-87d2-4857-b25f-ec8f527592fa",
   "metadata": {},
   "source": [
    "# Dunder Methods"
   ]
  },
  {
   "cell_type": "markdown",
   "id": "2036cbe7-90c6-46da-a9bb-5c764df8963d",
   "metadata": {},
   "source": [
    "# Global and local Variables"
   ]
  },
  {
   "cell_type": "markdown",
   "id": "b8d7332d-5d9b-461a-b6b1-4650425df563",
   "metadata": {},
   "source": [
    "# Encapsulation"
   ]
  },
  {
   "cell_type": "markdown",
   "id": "aed5744f-4566-40c0-819d-b15c02b904f0",
   "metadata": {},
   "source": [
    "- refers to data hiding\n",
    "- one class should not have direct access to the data of the other class\n",
    "- can use private variables and properties to control access to class data\n",
    "- to define private variable, use two underscores __age"
   ]
  },
  {
   "cell_type": "code",
   "execution_count": 291,
   "id": "b3b9d80c-3b93-433d-b89a-9ab4fac484b6",
   "metadata": {},
   "outputs": [],
   "source": [
    "import warnings\n",
    "\n",
    "class Dog:\n",
    "    \n",
    "    def __init__(self, name, age):\n",
    "        self.name = name\n",
    "        self.age = age\n",
    "        \n",
    "    @property\n",
    "    def age(self):\n",
    "        return self.age\n",
    "    \n",
    "    @age.setter\n",
    "    def age(self, age):\n",
    "        if age < 0:\n",
    "            raise Exception(\"A dog's age cannot be negative\")\n",
    "        elif age > 15:\n",
    "            warnings.warn(\"Are you sure the age is right? That's an old dog to adopt\")\n",
    "            self.age = age\n",
    "        else:\n",
    "            self.age = age\n",
    "        \n",
    "    def bark_name_and_age(self):\n",
    "        print(f\"Wuff, my name is {self.name} and I am {self.age} year(s) old!\")"
   ]
  },
  {
   "cell_type": "code",
   "execution_count": 292,
   "id": "79476175-f7f4-4b83-8c2e-74ec3c21837e",
   "metadata": {},
   "outputs": [
    {
     "ename": "Exception",
     "evalue": "A dog's age cannot be negative",
     "output_type": "error",
     "traceback": [
      "\u001b[1;31m---------------------------------------------------------------------------\u001b[0m",
      "\u001b[1;31mException\u001b[0m                                 Traceback (most recent call last)",
      "\u001b[1;32m<ipython-input-292-fb34a5415b5c>\u001b[0m in \u001b[0;36m<module>\u001b[1;34m\u001b[0m\n\u001b[1;32m----> 1\u001b[1;33m \u001b[0msilver\u001b[0m \u001b[1;33m=\u001b[0m \u001b[0mDog\u001b[0m\u001b[1;33m(\u001b[0m\u001b[1;34m\"Silver\"\u001b[0m\u001b[1;33m,\u001b[0m \u001b[1;33m-\u001b[0m\u001b[1;36m1\u001b[0m\u001b[1;33m)\u001b[0m\u001b[1;33m\u001b[0m\u001b[1;33m\u001b[0m\u001b[0m\n\u001b[0m",
      "\u001b[1;32m<ipython-input-291-89b19d6323bc>\u001b[0m in \u001b[0;36m__init__\u001b[1;34m(self, name, age)\u001b[0m\n\u001b[0;32m      5\u001b[0m     \u001b[1;32mdef\u001b[0m \u001b[0m__init__\u001b[0m\u001b[1;33m(\u001b[0m\u001b[0mself\u001b[0m\u001b[1;33m,\u001b[0m \u001b[0mname\u001b[0m\u001b[1;33m,\u001b[0m \u001b[0mage\u001b[0m\u001b[1;33m)\u001b[0m\u001b[1;33m:\u001b[0m\u001b[1;33m\u001b[0m\u001b[1;33m\u001b[0m\u001b[0m\n\u001b[0;32m      6\u001b[0m         \u001b[0mself\u001b[0m\u001b[1;33m.\u001b[0m\u001b[0mname\u001b[0m \u001b[1;33m=\u001b[0m \u001b[0mname\u001b[0m\u001b[1;33m\u001b[0m\u001b[1;33m\u001b[0m\u001b[0m\n\u001b[1;32m----> 7\u001b[1;33m         \u001b[0mself\u001b[0m\u001b[1;33m.\u001b[0m\u001b[0mage\u001b[0m \u001b[1;33m=\u001b[0m \u001b[0mage\u001b[0m\u001b[1;33m\u001b[0m\u001b[1;33m\u001b[0m\u001b[0m\n\u001b[0m\u001b[0;32m      8\u001b[0m \u001b[1;33m\u001b[0m\u001b[0m\n\u001b[0;32m      9\u001b[0m     \u001b[1;33m@\u001b[0m\u001b[0mproperty\u001b[0m\u001b[1;33m\u001b[0m\u001b[1;33m\u001b[0m\u001b[0m\n",
      "\u001b[1;32m<ipython-input-291-89b19d6323bc>\u001b[0m in \u001b[0;36mage\u001b[1;34m(self, age)\u001b[0m\n\u001b[0;32m     14\u001b[0m     \u001b[1;32mdef\u001b[0m \u001b[0mage\u001b[0m\u001b[1;33m(\u001b[0m\u001b[0mself\u001b[0m\u001b[1;33m,\u001b[0m \u001b[0mage\u001b[0m\u001b[1;33m)\u001b[0m\u001b[1;33m:\u001b[0m\u001b[1;33m\u001b[0m\u001b[1;33m\u001b[0m\u001b[0m\n\u001b[0;32m     15\u001b[0m         \u001b[1;32mif\u001b[0m \u001b[0mage\u001b[0m \u001b[1;33m<\u001b[0m \u001b[1;36m0\u001b[0m\u001b[1;33m:\u001b[0m\u001b[1;33m\u001b[0m\u001b[1;33m\u001b[0m\u001b[0m\n\u001b[1;32m---> 16\u001b[1;33m             \u001b[1;32mraise\u001b[0m \u001b[0mException\u001b[0m\u001b[1;33m(\u001b[0m\u001b[1;34m\"A dog's age cannot be negative\"\u001b[0m\u001b[1;33m)\u001b[0m\u001b[1;33m\u001b[0m\u001b[1;33m\u001b[0m\u001b[0m\n\u001b[0m\u001b[0;32m     17\u001b[0m         \u001b[1;32melif\u001b[0m \u001b[0mage\u001b[0m \u001b[1;33m>\u001b[0m \u001b[1;36m15\u001b[0m\u001b[1;33m:\u001b[0m\u001b[1;33m\u001b[0m\u001b[1;33m\u001b[0m\u001b[0m\n\u001b[0;32m     18\u001b[0m             \u001b[0mwarnings\u001b[0m\u001b[1;33m.\u001b[0m\u001b[0mwarn\u001b[0m\u001b[1;33m(\u001b[0m\u001b[1;34m\"Are you sure the age is right? That's an old dog to adopt\"\u001b[0m\u001b[1;33m)\u001b[0m\u001b[1;33m\u001b[0m\u001b[1;33m\u001b[0m\u001b[0m\n",
      "\u001b[1;31mException\u001b[0m: A dog's age cannot be negative"
     ]
    }
   ],
   "source": [
    "silver = Dog(\"Silver\", -1)"
   ]
  },
  {
   "cell_type": "code",
   "execution_count": null,
   "id": "7c5de2c1-e340-4466-8bb6-532e3a4a4aac",
   "metadata": {
    "tags": []
   },
   "outputs": [],
   "source": [
    "silver = Dog(\"Silver\", 21)"
   ]
  },
  {
   "cell_type": "code",
   "execution_count": 285,
   "id": "9d2b31c5-811a-4a58-af8f-4b25eb986245",
   "metadata": {},
   "outputs": [
    {
     "name": "stdout",
     "output_type": "stream",
     "text": [
      "Wuff, my name is Silver and I am 21 years old!\n"
     ]
    }
   ],
   "source": [
    "silver.bark_name_and_age()"
   ]
  },
  {
   "cell_type": "code",
   "execution_count": 286,
   "id": "bc0b2d6f-b9bb-41a9-a5dd-336331036a39",
   "metadata": {},
   "outputs": [
    {
     "data": {
      "text/plain": [
       "21"
      ]
     },
     "execution_count": 286,
     "metadata": {},
     "output_type": "execute_result"
    }
   ],
   "source": [
    "silver.age"
   ]
  },
  {
   "cell_type": "markdown",
   "id": "028773b3-29dd-4f2f-b504-6b4912af9359",
   "metadata": {},
   "source": [
    "# Inheritance"
   ]
  },
  {
   "cell_type": "code",
   "execution_count": 288,
   "id": "141858e6-4020-41f6-b191-b8dd1b3b249e",
   "metadata": {},
   "outputs": [],
   "source": [
    "class AustralianSheppard(Dog):\n",
    "    \n",
    "    @staticmethod\n",
    "    def print_lexicon_entry():\n",
    "        entry = \"\"\"The Australian Shepherd is a breed of herding dog from the United States. Developed in California \n",
    "                   in the 19th century, it is claimed the breed descends from a variety of herding breeds \n",
    "                   including collies imported into California alongside sheep imported from Australia and New Zealand, \n",
    "                   the breed taking its name from the former.\"\"\"\n",
    "        print(entry)"
   ]
  },
  {
   "cell_type": "code",
   "execution_count": 289,
   "id": "cf050f30-4f7e-44e7-b9dd-e10849b6d0b6",
   "metadata": {},
   "outputs": [],
   "source": [
    "teddy = AustralianSheppard(\"Teddy\", 1)"
   ]
  },
  {
   "cell_type": "code",
   "execution_count": 290,
   "id": "7119e43e-d94e-42bf-96e6-73ee7e1bef02",
   "metadata": {},
   "outputs": [
    {
     "name": "stdout",
     "output_type": "stream",
     "text": [
      "Wuff, my name is Teddy and I am 1 years old!\n"
     ]
    }
   ],
   "source": [
    "teddy.bark_name_and_age()"
   ]
  },
  {
   "cell_type": "markdown",
   "id": "e3721a2d-9a90-48b9-a498-ad1137ce2db2",
   "metadata": {},
   "source": [
    "## Simple Inheritance"
   ]
  },
  {
   "cell_type": "markdown",
   "id": "3b9e25ae-2f98-462f-9046-6651e63e73c7",
   "metadata": {},
   "source": [
    "## Multiple Inheritance (MRO)"
   ]
  },
  {
   "cell_type": "markdown",
   "id": "ea38b604-edc6-4f34-808d-a7d7fa11e106",
   "metadata": {},
   "source": [
    "# Polymorphism"
   ]
  },
  {
   "cell_type": "markdown",
   "id": "0db64a45-dcdc-4e59-a917-3bdbe4a6677f",
   "metadata": {},
   "source": [
    "## Method overriding"
   ]
  },
  {
   "cell_type": "markdown",
   "id": "f1b38745-527f-46ad-aff0-c538b5c55103",
   "metadata": {},
   "source": [
    "## Method overloading"
   ]
  },
  {
   "cell_type": "markdown",
   "id": "5c3b829f-6e3f-4619-a3f5-227271e06367",
   "metadata": {},
   "source": [
    "# Using Decorators"
   ]
  },
  {
   "cell_type": "markdown",
   "id": "0cc2b754-4667-4141-aed0-495ec4a3ca96",
   "metadata": {},
   "source": [
    "## For Class Methods"
   ]
  },
  {
   "cell_type": "markdown",
   "id": "4d3ff61b-b2d8-4b82-97c3-2d10f80968a3",
   "metadata": {},
   "source": [
    "## For Static Methods"
   ]
  },
  {
   "cell_type": "markdown",
   "id": "29aae09a-1704-4838-8e1a-7a83facfbf95",
   "metadata": {},
   "source": [
    "## For Properties"
   ]
  },
  {
   "cell_type": "markdown",
   "id": "3a21192b-ed8d-44ec-b279-6affce75bd40",
   "metadata": {},
   "source": [
    "# Metaclasses"
   ]
  },
  {
   "cell_type": "markdown",
   "id": "72ce8137-7116-402e-8661-3ea38aad059e",
   "metadata": {},
   "source": [
    "# Abstract Base Class"
   ]
  },
  {
   "cell_type": "code",
   "execution_count": null,
   "id": "4a30ec7b-03d6-4c23-9af1-66d2a76a3386",
   "metadata": {},
   "outputs": [],
   "source": []
  }
 ],
 "metadata": {
  "kernelspec": {
   "display_name": "Python 3",
   "language": "python",
   "name": "python3"
  },
  "language_info": {
   "codemirror_mode": {
    "name": "ipython",
    "version": 3
   },
   "file_extension": ".py",
   "mimetype": "text/x-python",
   "name": "python",
   "nbconvert_exporter": "python",
   "pygments_lexer": "ipython3",
   "version": "3.7.1"
  }
 },
 "nbformat": 4,
 "nbformat_minor": 5
}
